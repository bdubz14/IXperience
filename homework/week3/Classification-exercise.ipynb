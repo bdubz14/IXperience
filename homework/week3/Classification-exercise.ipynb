{
 "cells": [
  {
   "cell_type": "markdown",
   "metadata": {},
   "source": [
    "For this exercise we are going to use a synthetic dataset. Scikit-learn has functions that allow us to create synthetic datasets that help us test different models with different datasets that have features that we know."
   ]
  },
  {
   "cell_type": "code",
   "execution_count": 1,
   "metadata": {},
   "outputs": [],
   "source": [
    "from sklearn.datasets import make_classification"
   ]
  },
  {
   "cell_type": "code",
   "execution_count": 2,
   "metadata": {},
   "outputs": [],
   "source": [
    "make_classification?"
   ]
  },
  {
   "cell_type": "markdown",
   "metadata": {},
   "source": [
    "It is easy to create a dataset with this function"
   ]
  },
  {
   "cell_type": "code",
   "execution_count": 3,
   "metadata": {},
   "outputs": [],
   "source": [
    "n_samples = 1000\n",
    "X, y = make_classification(n_samples,        # Number of observations\n",
    "                           random_state=42,  # We fix the random seed for reproducibility\n",
    "                           weights = [0.85], # we want an imbalanced dataset (85% of class 1)\n",
    "                           class_sep=0.5,    # Make the classification a bit harder\n",
    "                           n_classes=2,      # binary classification\n",
    "                           n_features=20)    # 20 independent variables"
   ]
  },
  {
   "cell_type": "code",
   "execution_count": 4,
   "metadata": {},
   "outputs": [
    {
     "data": {
      "text/plain": [
       "array([-0.6693561 , -0.21235508, -0.87076638,  1.14183093,  0.02160555,\n",
       "       -0.5864027 , -1.25169805,  0.28930464,  0.35716259, -0.19681112,\n",
       "        0.82927369,  0.15485045, -0.21997009, -0.73913656,  1.14599999,\n",
       "        1.63460551, -0.93817985, -1.26733697,  0.09124668,  1.01664321])"
      ]
     },
     "execution_count": 4,
     "metadata": {},
     "output_type": "execute_result"
    }
   ],
   "source": [
    "X[0]"
   ]
  },
  {
   "cell_type": "markdown",
   "metadata": {},
   "source": [
    "### Train a LogisticRegression model and calculate its average cross validated AUC and Accuracy (3 fold cross validation)"
   ]
  },
  {
   "cell_type": "code",
   "execution_count": 5,
   "metadata": {},
   "outputs": [],
   "source": [
    "from sklearn.linear_model import LogisticRegression\n",
    "logprac = LogisticRegression()"
   ]
  },
  {
   "cell_type": "code",
   "execution_count": 6,
   "metadata": {},
   "outputs": [],
   "source": [
    "from sklearn.model_selection import train_test_split\n",
    "X_train, X_test, y_train, y_test = train_test_split(X,y,test_size=0.2)"
   ]
  },
  {
   "cell_type": "code",
   "execution_count": 7,
   "metadata": {},
   "outputs": [
    {
     "data": {
      "text/plain": [
       "array([0, 0, 0, 0, 0, 0, 0, 0, 0, 0])"
      ]
     },
     "execution_count": 7,
     "metadata": {},
     "output_type": "execute_result"
    }
   ],
   "source": [
    "logprac.fit(X_train, y_train)\n",
    "predictions = logprac.predict(X_test)\n",
    "\n",
    "predictions[:10]"
   ]
  },
  {
   "cell_type": "code",
   "execution_count": 8,
   "metadata": {},
   "outputs": [
    {
     "data": {
      "text/plain": [
       "array([[0.77382911, 0.22617089],\n",
       "       [0.98826517, 0.01173483],\n",
       "       [0.92242356, 0.07757644],\n",
       "       [0.79458497, 0.20541503],\n",
       "       [0.96963271, 0.03036729],\n",
       "       [0.95560136, 0.04439864],\n",
       "       [0.85117704, 0.14882296],\n",
       "       [0.97658455, 0.02341545],\n",
       "       [0.97262318, 0.02737682],\n",
       "       [0.97433832, 0.02566168]])"
      ]
     },
     "execution_count": 8,
     "metadata": {},
     "output_type": "execute_result"
    }
   ],
   "source": [
    "predictions_probabilities = logprac.predict_proba(X_test)\n",
    "predictions_probabilities[:10]"
   ]
  },
  {
   "cell_type": "code",
   "execution_count": 9,
   "metadata": {},
   "outputs": [],
   "source": [
    "from sklearn.model_selection import cross_val_score"
   ]
  },
  {
   "cell_type": "code",
   "execution_count": 16,
   "metadata": {},
   "outputs": [
    {
     "data": {
      "text/plain": [
       "array([0.78957944, 0.78188873, 0.76539007])"
      ]
     },
     "execution_count": 16,
     "metadata": {},
     "output_type": "execute_result"
    }
   ],
   "source": [
    "auc_cross_validation = cross_val_score(\n",
    "    estimator=logprac, \n",
    "    X=X,\n",
    "    y=y,\n",
    "    scoring=\"roc_auc\", \n",
    "    cv=3\n",
    ")\n",
    "auc_cross_validation"
   ]
  },
  {
   "cell_type": "code",
   "execution_count": 11,
   "metadata": {},
   "outputs": [],
   "source": [
    "acc_cross_validation = cross_val_score(\n",
    "    estimator=logprac, \n",
    "    X=X,\n",
    "    y=y,\n",
    "    scoring=\"accuracy\", \n",
    "    cv=3\n",
    ")"
   ]
  },
  {
   "cell_type": "code",
   "execution_count": 12,
   "metadata": {},
   "outputs": [],
   "source": [
    "avg_auc = auc_cross_validation.mean()\n",
    "avg_acc = acc_cross_validation.mean()"
   ]
  },
  {
   "cell_type": "code",
   "execution_count": 13,
   "metadata": {},
   "outputs": [
    {
     "name": "stdout",
     "output_type": "stream",
     "text": [
      "Avg AUC: 0.7789527447196707\n",
      "Avg ACC: 0.8519948055695837\n"
     ]
    }
   ],
   "source": [
    "print('Avg AUC: {}\\nAvg ACC: {}'.format(avg_auc, avg_acc))"
   ]
  },
  {
   "cell_type": "markdown",
   "metadata": {},
   "source": [
    "### Is this a good score? What is a reasonable benchmark?"
   ]
  },
  {
   "cell_type": "markdown",
   "metadata": {},
   "source": [
    "These are decent scores at best; not good. Shooting for 90% for each metric sounds reasonable, given that we have no context."
   ]
  },
  {
   "cell_type": "markdown",
   "metadata": {},
   "source": [
    "### Plot a line chart comparing the roc_auc score for training and test for the following values for the linear model hyperparameter **C**. (Remember, the hyperparameters are the arguments we can pass to the model to tune it).\n",
    "\n",
    "*Hint:* You can use the method `cross_validate`, or calculate train and test scores independently."
   ]
  },
  {
   "cell_type": "code",
   "execution_count": 14,
   "metadata": {},
   "outputs": [],
   "source": [
    "import numpy as np\n",
    "C_range = np.linspace(0.01, 1, 100)"
   ]
  },
  {
   "cell_type": "code",
   "execution_count": 15,
   "metadata": {},
   "outputs": [
    {
     "data": {
      "text/plain": [
       "array([0.01, 0.02, 0.03, 0.04, 0.05, 0.06, 0.07, 0.08, 0.09, 0.1 , 0.11,\n",
       "       0.12, 0.13, 0.14, 0.15, 0.16, 0.17, 0.18, 0.19, 0.2 , 0.21, 0.22,\n",
       "       0.23, 0.24, 0.25, 0.26, 0.27, 0.28, 0.29, 0.3 , 0.31, 0.32, 0.33,\n",
       "       0.34, 0.35, 0.36, 0.37, 0.38, 0.39, 0.4 , 0.41, 0.42, 0.43, 0.44,\n",
       "       0.45, 0.46, 0.47, 0.48, 0.49, 0.5 , 0.51, 0.52, 0.53, 0.54, 0.55,\n",
       "       0.56, 0.57, 0.58, 0.59, 0.6 , 0.61, 0.62, 0.63, 0.64, 0.65, 0.66,\n",
       "       0.67, 0.68, 0.69, 0.7 , 0.71, 0.72, 0.73, 0.74, 0.75, 0.76, 0.77,\n",
       "       0.78, 0.79, 0.8 , 0.81, 0.82, 0.83, 0.84, 0.85, 0.86, 0.87, 0.88,\n",
       "       0.89, 0.9 , 0.91, 0.92, 0.93, 0.94, 0.95, 0.96, 0.97, 0.98, 0.99,\n",
       "       1.  ])"
      ]
     },
     "execution_count": 15,
     "metadata": {},
     "output_type": "execute_result"
    }
   ],
   "source": [
    "C_range"
   ]
  },
  {
   "cell_type": "code",
   "execution_count": 18,
   "metadata": {},
   "outputs": [],
   "source": [
    "from sklearn.metrics import roc_auc_score"
   ]
  },
  {
   "cell_type": "code",
   "execution_count": 23,
   "metadata": {},
   "outputs": [
    {
     "data": {
      "text/plain": [
       "[0.6110294117647059,\n",
       " 0.6117647058823529,\n",
       " 0.6026960784313726,\n",
       " 0.6034313725490196,\n",
       " 0.6034313725490196,\n",
       " 0.6034313725490196,\n",
       " 0.6034313725490196,\n",
       " 0.6026960784313726,\n",
       " 0.6026960784313726,\n",
       " 0.6026960784313726]"
      ]
     },
     "execution_count": 23,
     "metadata": {},
     "output_type": "execute_result"
    }
   ],
   "source": [
    "roc_auc_train = []\n",
    "roc_auc_test = []\n",
    "for c in C_range:\n",
    "    c_test = LogisticRegression(C=c)\n",
    "    c_test.fit(X_train, y_train)\n",
    "    y_pred_test = c_test.predict(X_test)\n",
    "    y_pred_train = c_test.predict(X_train)\n",
    "    auc_test = roc_auc_score(y_test, y_pred_test)\n",
    "    auc_train = roc_auc_score(y_train, y_pred_train)\n",
    "    roc_auc_train.append(auc_train)\n",
    "    roc_auc_test.append(auc_test)\n",
    "roc_auc_train[:10]"
   ]
  },
  {
   "cell_type": "code",
   "execution_count": 20,
   "metadata": {},
   "outputs": [],
   "source": [
    "import matplotlib.pyplot as plt"
   ]
  },
  {
   "cell_type": "code",
   "execution_count": 26,
   "metadata": {},
   "outputs": [
    {
     "data": {
      "image/png": "[encoded data removed]",
      "text/plain": [
       "<Figure size 504x504 with 1 Axes>"
      ]
     },
     "metadata": {},
     "output_type": "display_data"
    }
   ],
   "source": [
    "plt.rcParams[\"figure.figsize\"] = (7, 7)\n",
    "test = plt.plot(C_range, roc_auc_test, label='test', color='green')\n",
    "train = plt.plot(C_range, roc_auc_train, label='train', color='red')\n",
    "plt.legend(handles=(test[0], train[0]), labels=('test','train'))\n",
    "plt.show()"
   ]
  },
  {
   "cell_type": "markdown",
   "metadata": {},
   "source": [
    "### Train your Logistic Regression model with the best value of C. Which observations are the hardest ones to classify by our model? We can assume that those elements that are harder to classify are those where the probabilities of a positive and a negative are the closest."
   ]
  },
  {
   "cell_type": "code",
   "execution_count": 27,
   "metadata": {},
   "outputs": [],
   "source": [
    "c_best = LogisticRegression(C=0.1)"
   ]
  },
  {
   "cell_type": "code",
   "execution_count": 33,
   "metadata": {},
   "outputs": [
    {
     "data": {
      "text/plain": [
       "array([0.50251908, 0.49748092])"
      ]
     },
     "execution_count": 33,
     "metadata": {},
     "output_type": "execute_result"
    }
   ],
   "source": [
    "c_best.fit(X_train, y_train)\n",
    "prob = c_best.predict_proba(X_test)\n",
    "prob[90]"
   ]
  },
  {
   "cell_type": "markdown",
   "metadata": {},
   "source": [
    "Looking for observations where difference in probabilites of pos/neg is within 0.1"
   ]
  },
  {
   "cell_type": "code",
   "execution_count": 36,
   "metadata": {},
   "outputs": [],
   "source": [
    "indices = []\n",
    "index = 0\n",
    "while index < len(prob):\n",
    "    if abs(prob[index][1] - prob[index][0]) <= 0.1:\n",
    "        indices.append(index)\n",
    "    index += 1"
   ]
  },
  {
   "cell_type": "code",
   "execution_count": 37,
   "metadata": {},
   "outputs": [
    {
     "data": {
      "text/plain": [
       "[90]"
      ]
     },
     "execution_count": 37,
     "metadata": {},
     "output_type": "execute_result"
    }
   ],
   "source": [
    "indices"
   ]
  }
 ],
 "metadata": {
  "kernelspec": {
   "display_name": "Python 3",
   "language": "python",
   "name": "python3"
  },
  "language_info": {
   "codemirror_mode": {
    "name": "ipython",
    "version": 3
   },
   "file_extension": ".py",
   "mimetype": "text/x-python",
   "name": "python",
   "nbconvert_exporter": "python",
   "pygments_lexer": "ipython3",
   "version": "3.6.5"
  }
 },
 "nbformat": 4,
 "nbformat_minor": 2
}
