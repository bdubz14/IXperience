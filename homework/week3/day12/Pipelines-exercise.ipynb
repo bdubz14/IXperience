{
 "cells": [
  {
   "cell_type": "markdown",
   "metadata": {},
   "source": [
    "For this exercises we have to build a processing pipeline that processes the movies dataset. Its not a matter of copy pasting code, but of taking decisions on how to deal with each variable."
   ]
  },
  {
   "cell_type": "markdown",
   "metadata": {},
   "source": [
    "### We load the dataset"
   ]
  },
  {
   "cell_type": "code",
   "execution_count": 1,
   "metadata": {},
   "outputs": [
    {
     "data": {
      "text/html": [
       "<div>\n",
       "<style scoped>\n",
       "    .dataframe tbody tr th:only-of-type {\n",
       "        vertical-align: middle;\n",
       "    }\n",
       "\n",
       "    .dataframe tbody tr th {\n",
       "        vertical-align: top;\n",
       "    }\n",
       "\n",
       "    .dataframe thead th {\n",
       "        text-align: right;\n",
       "    }\n",
       "</style>\n",
       "<table border=\"1\" class=\"dataframe\">\n",
       "  <thead>\n",
       "    <tr style=\"text-align: right;\">\n",
       "      <th></th>\n",
       "      <th>belongs_to_collection</th>\n",
       "      <th>budget</th>\n",
       "      <th>genre</th>\n",
       "      <th>original_language</th>\n",
       "      <th>popularity</th>\n",
       "      <th>production_company</th>\n",
       "      <th>production_country</th>\n",
       "      <th>release_date</th>\n",
       "      <th>revenue</th>\n",
       "      <th>runtime</th>\n",
       "      <th>title</th>\n",
       "      <th>vote_average</th>\n",
       "      <th>vote_count</th>\n",
       "    </tr>\n",
       "  </thead>\n",
       "  <tbody>\n",
       "    <tr>\n",
       "      <th>0</th>\n",
       "      <td>Father of the Bride Collection</td>\n",
       "      <td>NaN</td>\n",
       "      <td>Comedy</td>\n",
       "      <td>en</td>\n",
       "      <td>8.387519</td>\n",
       "      <td>Sandollar Productions</td>\n",
       "      <td>United States of America</td>\n",
       "      <td>1995-02-10</td>\n",
       "      <td>76578911.0</td>\n",
       "      <td>106.0</td>\n",
       "      <td>Father of the Bride Part II</td>\n",
       "      <td>5.7</td>\n",
       "      <td>173.0</td>\n",
       "    </tr>\n",
       "    <tr>\n",
       "      <th>1</th>\n",
       "      <td>NaN</td>\n",
       "      <td>NaN</td>\n",
       "      <td>Drama</td>\n",
       "      <td>en</td>\n",
       "      <td>0.894647</td>\n",
       "      <td>Miramax</td>\n",
       "      <td>South Africa</td>\n",
       "      <td>1995-12-15</td>\n",
       "      <td>676525.0</td>\n",
       "      <td>106.0</td>\n",
       "      <td>Cry, the Beloved Country</td>\n",
       "      <td>6.7</td>\n",
       "      <td>13.0</td>\n",
       "    </tr>\n",
       "    <tr>\n",
       "      <th>2</th>\n",
       "      <td>Friday Collection</td>\n",
       "      <td>3500000.0</td>\n",
       "      <td>Comedy</td>\n",
       "      <td>en</td>\n",
       "      <td>14.569650</td>\n",
       "      <td>New Line Cinema</td>\n",
       "      <td>United States of America</td>\n",
       "      <td>1995-04-26</td>\n",
       "      <td>28215918.0</td>\n",
       "      <td>91.0</td>\n",
       "      <td>Friday</td>\n",
       "      <td>7.0</td>\n",
       "      <td>513.0</td>\n",
       "    </tr>\n",
       "    <tr>\n",
       "      <th>3</th>\n",
       "      <td>NaN</td>\n",
       "      <td>NaN</td>\n",
       "      <td>Comedy</td>\n",
       "      <td>en</td>\n",
       "      <td>8.963037</td>\n",
       "      <td>Paramount Pictures</td>\n",
       "      <td>United States of America</td>\n",
       "      <td>1996-02-01</td>\n",
       "      <td>32.0</td>\n",
       "      <td>87.0</td>\n",
       "      <td>Black Sheep</td>\n",
       "      <td>6.0</td>\n",
       "      <td>124.0</td>\n",
       "    </tr>\n",
       "    <tr>\n",
       "      <th>4</th>\n",
       "      <td>NaN</td>\n",
       "      <td>12000000.0</td>\n",
       "      <td>Comedy</td>\n",
       "      <td>en</td>\n",
       "      <td>9.592265</td>\n",
       "      <td>Universal Pictures</td>\n",
       "      <td>United States of America</td>\n",
       "      <td>1996-02-16</td>\n",
       "      <td>41205099.0</td>\n",
       "      <td>92.0</td>\n",
       "      <td>Happy Gilmore</td>\n",
       "      <td>6.5</td>\n",
       "      <td>767.0</td>\n",
       "    </tr>\n",
       "  </tbody>\n",
       "</table>\n",
       "</div>"
      ],
      "text/plain": [
       "            belongs_to_collection      budget   genre original_language  \\\n",
       "0  Father of the Bride Collection         NaN  Comedy                en   \n",
       "1                             NaN         NaN   Drama                en   \n",
       "2               Friday Collection   3500000.0  Comedy                en   \n",
       "3                             NaN         NaN  Comedy                en   \n",
       "4                             NaN  12000000.0  Comedy                en   \n",
       "\n",
       "   popularity     production_company        production_country release_date  \\\n",
       "0    8.387519  Sandollar Productions  United States of America   1995-02-10   \n",
       "1    0.894647                Miramax              South Africa   1995-12-15   \n",
       "2   14.569650        New Line Cinema  United States of America   1995-04-26   \n",
       "3    8.963037     Paramount Pictures  United States of America   1996-02-01   \n",
       "4    9.592265     Universal Pictures  United States of America   1996-02-16   \n",
       "\n",
       "      revenue  runtime                        title  vote_average  vote_count  \n",
       "0  76578911.0    106.0  Father of the Bride Part II           5.7       173.0  \n",
       "1    676525.0    106.0     Cry, the Beloved Country           6.7        13.0  \n",
       "2  28215918.0     91.0                       Friday           7.0       513.0  \n",
       "3        32.0     87.0                  Black Sheep           6.0       124.0  \n",
       "4  41205099.0     92.0                Happy Gilmore           6.5       767.0  "
      ]
     },
     "execution_count": 1,
     "metadata": {},
     "output_type": "execute_result"
    }
   ],
   "source": [
    "import pandas as pd\n",
    "import numpy as np\n",
    "\n",
    "movies = pd.read_csv(\"data/movies.1.initial_process.csv\")\n",
    "movies = movies[movies.status==\"Released\"]\n",
    "del movies[\"status\"]\n",
    "movies.head()"
   ]
  },
  {
   "cell_type": "code",
   "execution_count": 43,
   "metadata": {},
   "outputs": [
    {
     "data": {
      "text/plain": [
       "1342"
      ]
     },
     "execution_count": 43,
     "metadata": {},
     "output_type": "execute_result"
    }
   ],
   "source": [
    "len(movies)"
   ]
  },
  {
   "cell_type": "markdown",
   "metadata": {},
   "source": [
    "### Create a Pipeline that process the dataset. You have to make sure you deal accordingly with numerical, categorical and text variables."
   ]
  },
  {
   "cell_type": "code",
   "execution_count": 2,
   "metadata": {},
   "outputs": [
    {
     "data": {
      "text/html": [
       "<div>\n",
       "<style scoped>\n",
       "    .dataframe tbody tr th:only-of-type {\n",
       "        vertical-align: middle;\n",
       "    }\n",
       "\n",
       "    .dataframe tbody tr th {\n",
       "        vertical-align: top;\n",
       "    }\n",
       "\n",
       "    .dataframe thead th {\n",
       "        text-align: right;\n",
       "    }\n",
       "</style>\n",
       "<table border=\"1\" class=\"dataframe\">\n",
       "  <thead>\n",
       "    <tr style=\"text-align: right;\">\n",
       "      <th></th>\n",
       "      <th>budget</th>\n",
       "      <th>popularity</th>\n",
       "      <th>revenue</th>\n",
       "      <th>runtime</th>\n",
       "      <th>vote_average</th>\n",
       "      <th>vote_count</th>\n",
       "    </tr>\n",
       "  </thead>\n",
       "  <tbody>\n",
       "    <tr>\n",
       "      <th>0</th>\n",
       "      <td>NaN</td>\n",
       "      <td>8.387519</td>\n",
       "      <td>76578911.0</td>\n",
       "      <td>106.0</td>\n",
       "      <td>5.7</td>\n",
       "      <td>173.0</td>\n",
       "    </tr>\n",
       "    <tr>\n",
       "      <th>1</th>\n",
       "      <td>NaN</td>\n",
       "      <td>0.894647</td>\n",
       "      <td>676525.0</td>\n",
       "      <td>106.0</td>\n",
       "      <td>6.7</td>\n",
       "      <td>13.0</td>\n",
       "    </tr>\n",
       "    <tr>\n",
       "      <th>2</th>\n",
       "      <td>3500000.0</td>\n",
       "      <td>14.569650</td>\n",
       "      <td>28215918.0</td>\n",
       "      <td>91.0</td>\n",
       "      <td>7.0</td>\n",
       "      <td>513.0</td>\n",
       "    </tr>\n",
       "    <tr>\n",
       "      <th>3</th>\n",
       "      <td>NaN</td>\n",
       "      <td>8.963037</td>\n",
       "      <td>32.0</td>\n",
       "      <td>87.0</td>\n",
       "      <td>6.0</td>\n",
       "      <td>124.0</td>\n",
       "    </tr>\n",
       "    <tr>\n",
       "      <th>4</th>\n",
       "      <td>12000000.0</td>\n",
       "      <td>9.592265</td>\n",
       "      <td>41205099.0</td>\n",
       "      <td>92.0</td>\n",
       "      <td>6.5</td>\n",
       "      <td>767.0</td>\n",
       "    </tr>\n",
       "  </tbody>\n",
       "</table>\n",
       "</div>"
      ],
      "text/plain": [
       "       budget  popularity     revenue  runtime  vote_average  vote_count\n",
       "0         NaN    8.387519  76578911.0    106.0           5.7       173.0\n",
       "1         NaN    0.894647    676525.0    106.0           6.7        13.0\n",
       "2   3500000.0   14.569650  28215918.0     91.0           7.0       513.0\n",
       "3         NaN    8.963037        32.0     87.0           6.0       124.0\n",
       "4  12000000.0    9.592265  41205099.0     92.0           6.5       767.0"
      ]
     },
     "execution_count": 2,
     "metadata": {},
     "output_type": "execute_result"
    }
   ],
   "source": [
    "numerical_df = movies.select_dtypes(np.number)\n",
    "numerical_df.head()"
   ]
  },
  {
   "cell_type": "code",
   "execution_count": 3,
   "metadata": {},
   "outputs": [],
   "source": [
    "import warnings\n",
    "warnings.filterwarnings(\"ignore\")"
   ]
  },
  {
   "cell_type": "code",
   "execution_count": 47,
   "metadata": {},
   "outputs": [],
   "source": [
    "target_variable = 'revenue'\n",
    "numerical_cols =  movies.drop(columns=target_variable).select_dtypes(np.number).columns\n",
    "categorical_col = ['genre','original_language','production_company','production_country']\n",
    "ordinal_col = [\"ordinal_col\"]\n",
    "text_col = ['title']"
   ]
  },
  {
   "cell_type": "markdown",
   "metadata": {},
   "source": [
    "# Note to self:\n",
    "\n",
    "Can do fillnan in pipeline"
   ]
  },
  {
   "cell_type": "code",
   "execution_count": 57,
   "metadata": {},
   "outputs": [],
   "source": [
    "for num_col in numerical_cols:\n",
    "    movies[[num_col]] = movies[[num_col]].fillna(\n",
    "        movies[movies[num_col].notna()][num_col].median()\n",
    "    )\n",
    "movies[['revenue']] = movies[['revenue']].fillna(\n",
    "        movies[movies['revenue'].notna()]['revenue'].median()\n",
    "    )\n",
    "for cate_col in categorical_col:\n",
    "    movies[[cate_col]] = movies[[cate_col]].fillna(\n",
    "        'Other'\n",
    "    )  "
   ]
  },
  {
   "cell_type": "code",
   "execution_count": 6,
   "metadata": {},
   "outputs": [],
   "source": [
    "from sklearn import preprocessing, feature_extraction\n",
    "\n",
    "imputer = preprocessing.Imputer(strategy=\"mean\")\n",
    "scaler = preprocessing.StandardScaler()"
   ]
  },
  {
   "cell_type": "code",
   "execution_count": 7,
   "metadata": {},
   "outputs": [],
   "source": [
    "from sklearn.pipeline import make_pipeline"
   ]
  },
  {
   "cell_type": "code",
   "execution_count": 8,
   "metadata": {},
   "outputs": [],
   "source": [
    "numerical_pipeline = make_pipeline(\n",
    "    imputer,\n",
    "    scaler\n",
    ")"
   ]
  },
  {
   "cell_type": "code",
   "execution_count": 9,
   "metadata": {},
   "outputs": [],
   "source": [
    "from sklearn.base import BaseEstimator\n",
    "\n",
    "class ColumnSelector(BaseEstimator):\n",
    "    def __init__(self, cols=None, drop_axis=False):\n",
    "        self.cols = cols\n",
    "        self.drop_axis = drop_axis\n",
    "\n",
    "    def fit_transform(self, X, y=None):\n",
    "        return self.transform(X=X, y=y)\n",
    "\n",
    "    def transform(self, X, y=None):\n",
    "        if hasattr(X, 'loc'):\n",
    "            #only pandas dataframes have the method loc\n",
    "            t = X.loc[:, self.cols].values\n",
    "        else:\n",
    "            # its a numpy array\n",
    "            t = X[:, self.cols]\n",
    "\n",
    "        if t.shape[-1] == 1 and self.drop_axis:\n",
    "            t = t.reshape(-1)\n",
    "        if len(t.shape) == 1 and not self.drop_axis:\n",
    "            t = t[:, np.newaxis]\n",
    "        return t\n",
    "\n",
    "    def fit(self, X, y=None):\n",
    "        return self"
   ]
  },
  {
   "cell_type": "code",
   "execution_count": 10,
   "metadata": {},
   "outputs": [],
   "source": [
    "numerical_col_selector = ColumnSelector(cols=numerical_cols)"
   ]
  },
  {
   "cell_type": "code",
   "execution_count": 11,
   "metadata": {},
   "outputs": [
    {
     "data": {
      "text/plain": [
       "array([[1.040000e+07, 8.387519e+00, 1.060000e+02, 5.700000e+00,\n",
       "        1.730000e+02],\n",
       "       [1.040000e+07, 8.946470e-01, 1.060000e+02, 6.700000e+00,\n",
       "        1.300000e+01],\n",
       "       [3.500000e+06, 1.456965e+01, 9.100000e+01, 7.000000e+00,\n",
       "        5.130000e+02],\n",
       "       ...,\n",
       "       [1.040000e+07, 5.605020e-01, 0.000000e+00, 3.700000e+00,\n",
       "        6.000000e+00],\n",
       "       [1.040000e+07, 6.742610e-01, 1.140000e+02, 5.500000e+00,\n",
       "        8.000000e+00],\n",
       "       [1.040000e+07, 3.800000e-05, 6.500000e+01, 0.000000e+00,\n",
       "        0.000000e+00]])"
      ]
     },
     "execution_count": 11,
     "metadata": {},
     "output_type": "execute_result"
    }
   ],
   "source": [
    "numerical_col_selector.fit_transform(movies)"
   ]
  },
  {
   "cell_type": "code",
   "execution_count": 12,
   "metadata": {},
   "outputs": [],
   "source": [
    "numerical_pipeline = make_pipeline(\n",
    "    numerical_col_selector,\n",
    "    imputer,\n",
    "    scaler\n",
    ")"
   ]
  },
  {
   "cell_type": "code",
   "execution_count": 13,
   "metadata": {},
   "outputs": [
    {
     "data": {
      "text/plain": [
       "array([[-0.24803204,  0.48543258,  0.18242354, -0.20276605, -0.17842234],\n",
       "       [-0.24803204, -0.93272362,  0.18242354,  0.44775282, -0.50242877],\n",
       "       [-0.66445288,  1.65550827, -0.46971388,  0.64290848,  0.51009133],\n",
       "       [-0.24803204,  0.59435936, -0.64361719, -0.00761039, -0.27764931],\n",
       "       [-0.15147068,  0.71345169, -0.42623805,  0.31764904,  1.02445154]])"
      ]
     },
     "execution_count": 13,
     "metadata": {},
     "output_type": "execute_result"
    }
   ],
   "source": [
    "numerical_pipeline.fit_transform(movies)[:5]"
   ]
  },
  {
   "cell_type": "markdown",
   "metadata": {},
   "source": [
    "Trying to make 'Other' category for countries here\n",
    "\n",
    "Jk going to do it in the transformer"
   ]
  },
  {
   "cell_type": "code",
   "execution_count": 28,
   "metadata": {},
   "outputs": [
    {
     "data": {
      "text/plain": [
       "928"
      ]
     },
     "execution_count": 28,
     "metadata": {},
     "output_type": "execute_result"
    }
   ],
   "source": [
    "countries = movies.production_country.unique()\n",
    "for country in countries:\n",
    "    if movies.production_country.value_count()[country] < 8:\n",
    "        movies.replace()"
   ]
  },
  {
   "cell_type": "code",
   "execution_count": 28,
   "metadata": {},
   "outputs": [
    {
     "data": {
      "text/plain": [
       "array(['Comedy', 'Drama', 'Documentary', 'Science Fiction', 'Thriller',\n",
       "       'Animation', 'Adventure', 'Horror', 'Fantasy', 'War', 'Western',\n",
       "       'Music', 'Romance', 'Action', 'Mystery', nan, 'Crime', 'Family'],\n",
       "      dtype=object)"
      ]
     },
     "execution_count": 28,
     "metadata": {},
     "output_type": "execute_result"
    }
   ],
   "source": [
    "movies['genre'].unique()"
   ]
  },
  {
   "cell_type": "code",
   "execution_count": 16,
   "metadata": {},
   "outputs": [
    {
     "data": {
      "text/plain": [
       "en    1122\n",
       "fr      52\n",
       "es      25\n",
       "ru      24\n",
       "it      23\n",
       "hi      16\n",
       "de      15\n",
       "ja      12\n",
       "ko       6\n",
       "sv       5\n",
       "pt       5\n",
       "nl       4\n",
       "fi       3\n",
       "bn       3\n",
       "fa       3\n",
       "zh       3\n",
       "cn       3\n",
       "ta       2\n",
       "tr       2\n",
       "he       1\n",
       "sq       1\n",
       "hu       1\n",
       "te       1\n",
       "ro       1\n",
       "sr       1\n",
       "da       1\n",
       "pl       1\n",
       "mr       1\n",
       "bs       1\n",
       "el       1\n",
       "vi       1\n",
       "tl       1\n",
       "th       1\n",
       "Name: original_language, dtype: int64"
      ]
     },
     "execution_count": 16,
     "metadata": {},
     "output_type": "execute_result"
    }
   ],
   "source": [
    "movies.original_language.value_counts()"
   ]
  },
  {
   "cell_type": "code",
   "execution_count": 19,
   "metadata": {
    "scrolled": false
   },
   "outputs": [
    {
     "data": {
      "text/plain": [
       "Paramount Pictures                        68\n",
       "Universal Pictures                        54\n",
       "Twentieth Century Fox Film Corporation    35\n",
       "New Line Cinema                           34\n",
       "Columbia Pictures                         33\n",
       "Warner Bros.                              26\n",
       "United Artists                            22\n",
       "TriStar Pictures                          15\n",
       "Columbia Pictures Corporation             15\n",
       "Touchstone Pictures                       14\n",
       "Fox Searchlight Pictures                  13\n",
       "Walt Disney Pictures                      11\n",
       "Miramax Films                             11\n",
       "Imagine Entertainment                     11\n",
       "Metro-Goldwyn-Mayer (MGM)                  9\n",
       "BBC Films                                  9\n",
       "Hollywood Pictures                         9\n",
       "DreamWorks SKG                             9\n",
       "Lions Gate Films                           7\n",
       "Dimension Films                            7\n",
       "The Weinstein Company                      6\n",
       "Killer Films                               5\n",
       "Orion Pictures                             5\n",
       "France 2 Cinéma                            5\n",
       "Canal+                                     4\n",
       "Village Roadshow Pictures                  4\n",
       "Lakeshore Entertainment                    4\n",
       "Dune Entertainment                         4\n",
       "Fine Line Features                         4\n",
       "Regency Enterprises                        4\n",
       "                                          ..\n",
       "Dark Castle Entertainment                  1\n",
       "Day Twenty- Eight Films                    1\n",
       "R%26C Produzioni                           1\n",
       "Buena Vista Distribution Company           1\n",
       "TNT                                        1\n",
       "Rhombus Media                              1\n",
       "hiq productions                            1\n",
       "Hammer Film Productions                    1\n",
       "Icon Productions                           1\n",
       "Film Science                               1\n",
       "3311 Productions                           1\n",
       "BIM Distribuzione                          1\n",
       "Motion Picture Corporation of America      1\n",
       "Soprofilms                                 1\n",
       "Loma Nasha                                 1\n",
       "Fairway International Pictures             1\n",
       "KGP Kranzelbinder Gabriele Production      1\n",
       "Mirage Enterprises                         1\n",
       "SLB Films                                  1\n",
       "Kinokompaniya CTB                          1\n",
       "Vijaya Productions                         1\n",
       "20th Century Fox                           1\n",
       "Red Envelope Entertainment                 1\n",
       "Marimark Productions                       1\n",
       "Red-horse Native                           1\n",
       "Monogram Pictures                          1\n",
       "Beijing Starlit Movie and TV Culture       1\n",
       "Metaphor Films                             1\n",
       "A Bad Way Ltd                              1\n",
       "Globo Filmes                               1\n",
       "Name: production_company, Length: 614, dtype: int64"
      ]
     },
     "execution_count": 19,
     "metadata": {},
     "output_type": "execute_result"
    }
   ],
   "source": [
    "movies.production_company.value_counts()"
   ]
  },
  {
   "cell_type": "markdown",
   "metadata": {},
   "source": [
    "# Todo:\n",
    "\n",
    "make categorical transformer"
   ]
  },
  {
   "cell_type": "code",
   "execution_count": 41,
   "metadata": {},
   "outputs": [],
   "source": [
    "class CategoryOther(BaseEstimator):\n",
    "    def __init__(self, cols=None, drop_axis=False):\n",
    "        self.cols = cols\n",
    "        self.drop_axis = drop_axis\n",
    "\n",
    "    def fit_transform(self, X, y=None):\n",
    "        return self.transform(X=X, y=y)\n",
    "    \n",
    "    # X is the dataset here\n",
    "    def transform(self, X, y=None):\n",
    "        for col in self.cols:\n",
    "            if col == 'production_company':\n",
    "                for company in X[col].unique():\n",
    "                    if X[col].value_counts()[company] < 20:\n",
    "                        X.replace(company, 'Other')\n",
    "            elif col == 'original_language':\n",
    "                for language in X[col].unique():\n",
    "                    if X[col].value_counts()[language] < 20:\n",
    "                        X.replace(language, 'Other')\n",
    "            elif col == 'genre':\n",
    "                for genre in X[col].unique():\n",
    "                    if X[col].value_counts()[genre] < 20:\n",
    "                        X.replace(genre, 'Other')\n",
    "            elif col == 'production_country':\n",
    "                for country in X[col].unique():\n",
    "                    if X[col].value_counts()[country] < 20:\n",
    "                        X.replace(country, 'Other')\n",
    "                        #print(X.production_country.value_counts()['Other'])\n",
    "        \n",
    "        if hasattr(X, 'loc'):\n",
    "            #only pandas dataframes have the method loc\n",
    "            t = X.loc[:, self.cols].values\n",
    "        else:\n",
    "            # its a numpy array\n",
    "            t = X[:, self.cols]\n",
    "\n",
    "        if t.shape[-1] == 1 and self.drop_axis:\n",
    "            t = t.reshape(-1)\n",
    "        if len(t.shape) == 1 and not self.drop_axis:\n",
    "            t = t[:, np.newaxis]\n",
    "        \n",
    "        return t\n",
    "\n",
    "    def fit(self, X, y=None):\n",
    "        return self"
   ]
  },
  {
   "cell_type": "code",
   "execution_count": 32,
   "metadata": {},
   "outputs": [],
   "source": [
    "from category_encoders import OneHotEncoder"
   ]
  },
  {
   "cell_type": "code",
   "execution_count": 42,
   "metadata": {},
   "outputs": [
    {
     "data": {
      "text/html": [
       "<div>\n",
       "<style scoped>\n",
       "    .dataframe tbody tr th:only-of-type {\n",
       "        vertical-align: middle;\n",
       "    }\n",
       "\n",
       "    .dataframe tbody tr th {\n",
       "        vertical-align: top;\n",
       "    }\n",
       "\n",
       "    .dataframe thead th {\n",
       "        text-align: right;\n",
       "    }\n",
       "</style>\n",
       "<table border=\"1\" class=\"dataframe\">\n",
       "  <thead>\n",
       "    <tr style=\"text-align: right;\">\n",
       "      <th></th>\n",
       "      <th>0_1</th>\n",
       "      <th>0_2</th>\n",
       "      <th>0_3</th>\n",
       "      <th>0_4</th>\n",
       "      <th>0_5</th>\n",
       "      <th>0_6</th>\n",
       "      <th>0_7</th>\n",
       "      <th>0_8</th>\n",
       "      <th>0_9</th>\n",
       "      <th>0_10</th>\n",
       "      <th>...</th>\n",
       "      <th>3_34</th>\n",
       "      <th>3_35</th>\n",
       "      <th>3_36</th>\n",
       "      <th>3_37</th>\n",
       "      <th>3_38</th>\n",
       "      <th>3_39</th>\n",
       "      <th>3_40</th>\n",
       "      <th>3_41</th>\n",
       "      <th>3_42</th>\n",
       "      <th>3_-1</th>\n",
       "    </tr>\n",
       "  </thead>\n",
       "  <tbody>\n",
       "    <tr>\n",
       "      <th>0</th>\n",
       "      <td>1</td>\n",
       "      <td>0</td>\n",
       "      <td>0</td>\n",
       "      <td>0</td>\n",
       "      <td>0</td>\n",
       "      <td>0</td>\n",
       "      <td>0</td>\n",
       "      <td>0</td>\n",
       "      <td>0</td>\n",
       "      <td>0</td>\n",
       "      <td>...</td>\n",
       "      <td>0</td>\n",
       "      <td>0</td>\n",
       "      <td>0</td>\n",
       "      <td>0</td>\n",
       "      <td>0</td>\n",
       "      <td>0</td>\n",
       "      <td>0</td>\n",
       "      <td>0</td>\n",
       "      <td>0</td>\n",
       "      <td>0</td>\n",
       "    </tr>\n",
       "    <tr>\n",
       "      <th>1</th>\n",
       "      <td>0</td>\n",
       "      <td>1</td>\n",
       "      <td>0</td>\n",
       "      <td>0</td>\n",
       "      <td>0</td>\n",
       "      <td>0</td>\n",
       "      <td>0</td>\n",
       "      <td>0</td>\n",
       "      <td>0</td>\n",
       "      <td>0</td>\n",
       "      <td>...</td>\n",
       "      <td>0</td>\n",
       "      <td>0</td>\n",
       "      <td>0</td>\n",
       "      <td>0</td>\n",
       "      <td>0</td>\n",
       "      <td>0</td>\n",
       "      <td>0</td>\n",
       "      <td>0</td>\n",
       "      <td>0</td>\n",
       "      <td>0</td>\n",
       "    </tr>\n",
       "    <tr>\n",
       "      <th>2</th>\n",
       "      <td>1</td>\n",
       "      <td>0</td>\n",
       "      <td>0</td>\n",
       "      <td>0</td>\n",
       "      <td>0</td>\n",
       "      <td>0</td>\n",
       "      <td>0</td>\n",
       "      <td>0</td>\n",
       "      <td>0</td>\n",
       "      <td>0</td>\n",
       "      <td>...</td>\n",
       "      <td>0</td>\n",
       "      <td>0</td>\n",
       "      <td>0</td>\n",
       "      <td>0</td>\n",
       "      <td>0</td>\n",
       "      <td>0</td>\n",
       "      <td>0</td>\n",
       "      <td>0</td>\n",
       "      <td>0</td>\n",
       "      <td>0</td>\n",
       "    </tr>\n",
       "    <tr>\n",
       "      <th>3</th>\n",
       "      <td>1</td>\n",
       "      <td>0</td>\n",
       "      <td>0</td>\n",
       "      <td>0</td>\n",
       "      <td>0</td>\n",
       "      <td>0</td>\n",
       "      <td>0</td>\n",
       "      <td>0</td>\n",
       "      <td>0</td>\n",
       "      <td>0</td>\n",
       "      <td>...</td>\n",
       "      <td>0</td>\n",
       "      <td>0</td>\n",
       "      <td>0</td>\n",
       "      <td>0</td>\n",
       "      <td>0</td>\n",
       "      <td>0</td>\n",
       "      <td>0</td>\n",
       "      <td>0</td>\n",
       "      <td>0</td>\n",
       "      <td>0</td>\n",
       "    </tr>\n",
       "    <tr>\n",
       "      <th>4</th>\n",
       "      <td>1</td>\n",
       "      <td>0</td>\n",
       "      <td>0</td>\n",
       "      <td>0</td>\n",
       "      <td>0</td>\n",
       "      <td>0</td>\n",
       "      <td>0</td>\n",
       "      <td>0</td>\n",
       "      <td>0</td>\n",
       "      <td>0</td>\n",
       "      <td>...</td>\n",
       "      <td>0</td>\n",
       "      <td>0</td>\n",
       "      <td>0</td>\n",
       "      <td>0</td>\n",
       "      <td>0</td>\n",
       "      <td>0</td>\n",
       "      <td>0</td>\n",
       "      <td>0</td>\n",
       "      <td>0</td>\n",
       "      <td>0</td>\n",
       "    </tr>\n",
       "  </tbody>\n",
       "</table>\n",
       "<p>5 rows × 712 columns</p>\n",
       "</div>"
      ],
      "text/plain": [
       "   0_1  0_2  0_3  0_4  0_5  0_6  0_7  0_8  0_9  0_10  ...   3_34  3_35  3_36  \\\n",
       "0    1    0    0    0    0    0    0    0    0     0  ...      0     0     0   \n",
       "1    0    1    0    0    0    0    0    0    0     0  ...      0     0     0   \n",
       "2    1    0    0    0    0    0    0    0    0     0  ...      0     0     0   \n",
       "3    1    0    0    0    0    0    0    0    0     0  ...      0     0     0   \n",
       "4    1    0    0    0    0    0    0    0    0     0  ...      0     0     0   \n",
       "\n",
       "   3_37  3_38  3_39  3_40  3_41  3_42  3_-1  \n",
       "0     0     0     0     0     0     0     0  \n",
       "1     0     0     0     0     0     0     0  \n",
       "2     0     0     0     0     0     0     0  \n",
       "3     0     0     0     0     0     0     0  \n",
       "4     0     0     0     0     0     0     0  \n",
       "\n",
       "[5 rows x 712 columns]"
      ]
     },
     "execution_count": 42,
     "metadata": {},
     "output_type": "execute_result"
    }
   ],
   "source": [
    "categorical_pipeline = make_pipeline(\n",
    "     CategoryOther(cols=categorical_col),\n",
    "     OneHotEncoder()\n",
    ")\n",
    "\n",
    "categorical_pipeline.fit_transform(movies)[:5]"
   ]
  },
  {
   "cell_type": "code",
   "execution_count": 49,
   "metadata": {},
   "outputs": [],
   "source": [
    "from sklearn.feature_extraction.text import TfidfVectorizer \n",
    "from mlxtend.preprocessing import DenseTransformer\n",
    "\n",
    "text_pipeline = make_pipeline(\n",
    "    ColumnSelector(cols=text_col, drop_axis=True),\n",
    "    TfidfVectorizer(),\n",
    "    DenseTransformer()\n",
    ")"
   ]
  },
  {
   "cell_type": "code",
   "execution_count": 50,
   "metadata": {},
   "outputs": [
    {
     "data": {
      "text/plain": [
       "array([[0., 0., 0., ..., 0., 0., 0.],\n",
       "       [0., 0., 0., ..., 0., 0., 0.],\n",
       "       [0., 0., 0., ..., 0., 0., 0.],\n",
       "       ...,\n",
       "       [0., 0., 0., ..., 0., 0., 0.],\n",
       "       [0., 0., 0., ..., 0., 0., 0.],\n",
       "       [0., 0., 0., ..., 0., 0., 0.]])"
      ]
     },
     "execution_count": 50,
     "metadata": {},
     "output_type": "execute_result"
    }
   ],
   "source": [
    "text_pipeline.fit_transform(movies)"
   ]
  },
  {
   "cell_type": "code",
   "execution_count": 52,
   "metadata": {},
   "outputs": [],
   "source": [
    "from sklearn.pipeline import make_union"
   ]
  },
  {
   "cell_type": "code",
   "execution_count": 53,
   "metadata": {},
   "outputs": [],
   "source": [
    "processing_pipeline = make_union(\n",
    "    numerical_pipeline,\n",
    "    categorical_pipeline,\n",
    "    text_pipeline\n",
    ")"
   ]
  },
  {
   "cell_type": "markdown",
   "metadata": {},
   "source": [
    "### Transform the dataset"
   ]
  },
  {
   "cell_type": "code",
   "execution_count": 54,
   "metadata": {},
   "outputs": [
    {
     "data": {
      "text/plain": [
       "array([[-0.24803204,  0.48543258,  0.18242354, ...,  0.        ,\n",
       "         0.        ,  0.        ],\n",
       "       [-0.24803204, -0.93272362,  0.18242354, ...,  0.        ,\n",
       "         0.        ,  0.        ],\n",
       "       [-0.66445288,  1.65550827, -0.46971388, ...,  0.        ,\n",
       "         0.        ,  0.        ],\n",
       "       ...,\n",
       "       [-0.24803204, -0.99596636, -4.42601422, ...,  0.        ,\n",
       "         0.        ,  0.        ],\n",
       "       [-0.24803204, -0.9744355 ,  0.53023016, ...,  0.        ,\n",
       "         0.        ,  0.        ],\n",
       "       [-0.24803204, -1.10204391, -1.60008541, ...,  0.        ,\n",
       "         0.        ,  0.        ]])"
      ]
     },
     "execution_count": 54,
     "metadata": {},
     "output_type": "execute_result"
    }
   ],
   "source": [
    "processing_pipeline.fit_transform(movies)"
   ]
  },
  {
   "cell_type": "code",
   "execution_count": 55,
   "metadata": {},
   "outputs": [],
   "source": [
    "from sklearn.linear_model import LinearRegression\n",
    "\n",
    "estimator = LinearRegression()\n",
    "estimator_pipeline = make_pipeline(\n",
    "    processing_pipeline,\n",
    "    estimator\n",
    ")"
   ]
  },
  {
   "cell_type": "code",
   "execution_count": 58,
   "metadata": {},
   "outputs": [
    {
     "data": {
      "text/plain": [
       "Pipeline(memory=None,\n",
       "     steps=[('featureunion', FeatureUnion(n_jobs=1,\n",
       "       transformer_list=[('pipeline-1', Pipeline(memory=None,\n",
       "     steps=[('columnselector', ColumnSelector(cols=Index(['budget', 'popularity', 'runtime', 'vote_average', 'vote_count'], dtype='object'),\n",
       "        drop_axis=False)), ('imputer', Imputer(axi... ('linearregression', LinearRegression(copy_X=True, fit_intercept=True, n_jobs=1, normalize=False))])"
      ]
     },
     "execution_count": 58,
     "metadata": {},
     "output_type": "execute_result"
    }
   ],
   "source": [
    "estimator_pipeline.fit(movies, movies[target_variable])"
   ]
  },
  {
   "cell_type": "code",
   "execution_count": 59,
   "metadata": {},
   "outputs": [
    {
     "data": {
      "text/plain": [
       "array([76462080.,   929792., 28033024.,   378880., 41041920.])"
      ]
     },
     "execution_count": 59,
     "metadata": {},
     "output_type": "execute_result"
    }
   ],
   "source": [
    "estimator_pipeline.predict(movies)[:5]"
   ]
  },
  {
   "cell_type": "markdown",
   "metadata": {},
   "source": [
    "### Create a Ridge estimator to predict a movies revenue based on the other features. What is the optimal value of alpha to minimize the RMSE? *Hint*: You can use validation curves to figure it out."
   ]
  },
  {
   "cell_type": "code",
   "execution_count": 61,
   "metadata": {},
   "outputs": [],
   "source": [
    "from sklearn.linear_model import RidgeCV"
   ]
  },
  {
   "cell_type": "code",
   "execution_count": 65,
   "metadata": {},
   "outputs": [],
   "source": [
    "alphas=[0.1,1,5,10,50,100]"
   ]
  },
  {
   "cell_type": "code",
   "execution_count": 66,
   "metadata": {},
   "outputs": [],
   "source": [
    "X_train = movies.drop(columns=['revenue','belongs_to_collection','release_date'])\n",
    "y_train = movies['revenue']"
   ]
  },
  {
   "cell_type": "code",
   "execution_count": 70,
   "metadata": {},
   "outputs": [
    {
     "data": {
      "text/plain": [
       "[5926885.090583885,\n",
       " 18243760.83673205,\n",
       " 29799796.500147942,\n",
       " 33216236.33269177,\n",
       " 37393250.21385112,\n",
       " 38250631.25158873]"
      ]
     },
     "execution_count": 70,
     "metadata": {},
     "output_type": "execute_result"
    }
   ],
   "source": [
    "import numpy as np\n",
    "from sklearn import metrics\n",
    "rmserrors = []\n",
    "for a in alphas:\n",
    "    ridge = Ridge(alpha=a, tol=0.01, max_iter=5000)\n",
    "    ridge_pipeline = make_pipeline(\n",
    "    processing_pipeline,\n",
    "    ridge\n",
    "    )\n",
    "    ridge_pipeline.fit(movies, movies[target_variable])\n",
    "    y_pred = ridge_pipeline.predict(movies)\n",
    "    rmse = np.sqrt(metrics.mean_squared_error(y_train, y_pred))\n",
    "    rmserrors.append(rmse)\n",
    "rmserrors"
   ]
  },
  {
   "cell_type": "markdown",
   "metadata": {},
   "source": [
    "### Remember when we did exploratory data analyses and we groupd the numerical variables into quintiles? That is a valid technique used in Machine Learning to expand a dataset, it is called [Binning or Bucketing](http://blog.yhat.com/tutorials/5-Feature-Engineering.html).\n",
    "\n",
    "### Create your own transformer that given a numerical variable and a number of buckets returns the specificed quartile (so if we choose buckets = 4, it would return 1, 2,3 or 4 depending on each observation being on the 1st, 2nd, 3rd or 4th quartile).\n",
    "\n",
    "### Try putting your bucket transformer into a pipeline to make sure it works, and check if it improves the performance of your model.\n",
    "\n",
    "**Hint**: You can use `ColumnSelector` as a template, and you can check pandas `qcut` for the actual binning."
   ]
  },
  {
   "cell_type": "code",
   "execution_count": null,
   "metadata": {},
   "outputs": [],
   "source": []
  }
 ],
 "metadata": {
  "kernelspec": {
   "display_name": "Python 3",
   "language": "python",
   "name": "python3"
  },
  "language_info": {
   "codemirror_mode": {
    "name": "ipython",
    "version": 3
   },
   "file_extension": ".py",
   "mimetype": "text/x-python",
   "name": "python",
   "nbconvert_exporter": "python",
   "pygments_lexer": "ipython3",
   "version": "3.6.5"
  }
 },
 "nbformat": 4,
 "nbformat_minor": 2
}
